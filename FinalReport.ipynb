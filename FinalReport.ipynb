{
 "cells": [
  {
   "cell_type": "markdown",
   "metadata": {},
   "source": [
    "# Ergonomic Ville Centrale\n",
    "\n",
    "\n"
   ]
  },
  {
   "cell_type": "markdown",
   "metadata": {},
   "source": [
    "## Introduction (Part 1)\n",
    "\n",
    "Most major cities in the world are located on the coasts, making the inland sparsely populated. This wastes a lot of potentially useful land. In the case of larger countries like United States and Russia, this means having the most major cities sometimes tens of thousands of kilometers apart (see St Petersburg to Vladivostok). This leads to weak administration and policy distribution. Countries like Brazil and India have realized this problem and have shifted their capitals (to Brasilia and Delhi) inwards. I aim to use gelocation APIs to identify centrally located pieces of land closest to major cities in large countries to tackle this problem. For this assignment, I will use the United States of America as a startoff point due to the large swarm of publicly available data.\n",
    "\n",
    "\n"
   ]
  },
  {
   "cell_type": "markdown",
   "metadata": {},
   "source": [
    "## Data and Methodology (Part 2)\n",
    "\n",
    "Data was taken off Wikipedia. It is a table containing the most important cities of the USA, their population over the years and their coordinates (in latitudes and longitudes).\n",
    "\n",
    "I scraped the data off Wikipedia into a Pandas dataframe and took the 20 largest cities. I split the \"Location\" column into a new dataframe to get my coordinates.\n",
    "\n",
    "This is where the tricky part started. The coordinates were of the form 12.34°N , 56.78°W. I had to spend some time to understand that I had to first separate the longitudes and the latitudes and then extract each number from the °N or °W. This messed with me for over half a day. I then realized that °W meant the negative of °E, a fact that I understood only after seeing my end result in China because I did not negate my value!\n",
    "\n",
    "Now, the formula I used for the latitude and longitude for the new city is (a+c+e+.....)/20,(b+d+f+.....)/20 where the coordinates are (a,b),(c,d)(e,f)......\n",
    "\n",
    "I then proceeded to check whether this \"ville centrale\" was on mainland or not by using the FOLIUM package. If not, the idea was to add a bias factor of say +/- 1  to each coordinate and check again. This iterative process was to be repeated till folium placed its marker for ville centrale on inhabitable land. Luckily, this happened for me on the first go, thanks to the smooth plains of Nebraska.\n",
    "\n",
    "Et voila! The task at hand is completed!\n",
    "\n"
   ]
  },
  {
   "cell_type": "markdown",
   "metadata": {},
   "source": [
    "## Results\n",
    "\n",
    "The three main results of my code are the latitude, the longitude and a folium map of my new city. I could say that the segmented Pandas dataframes for Latitude and Longitude are also semi results. Both the latitude and longitude are of float type, making their marking on a Folium map easy.\n",
    "\n"
   ]
  },
  {
   "cell_type": "markdown",
   "metadata": {},
   "source": [
    "## Observations\n",
    "\n",
    "Whilst writing my code, I came across a few important points to note\n",
    " * Web scraping is done best when the browser inspector is kept open to analyze the various tags of the HTML code.\n",
    " * Coordinates in °W and °S are the negative values of our conventional coordinate system values.\n",
    " * Folium dies not natively work on Github. That is why I have included a link to a working version of the map within the Github document that I used for submission of my work.\n",
    " * There is an easy way to convert a pandas dataframe into a string rather than going through the conventional way of iterative scanning. I have used this easy method in my code.\n",
    "\n",
    "\n"
   ]
  },
  {
   "cell_type": "markdown",
   "metadata": {},
   "source": [
    "## Conclusion\n",
    "\n",
    "While the process has been hard, I thoroughly enjoyed the fruits of myy new creation- a sprawling metropolis in the farmer's basket of America! \n",
    "Through this assignment, I learned a lot more about web scraping and Pandas than was taught in the course. This course also gave me a detailed insight into string handling, which was necessary for converting the longitudes into a usable format.\n",
    "In conclusion, this project has served as a great end to the IBM series!"
   ]
  },
  {
   "cell_type": "code",
   "execution_count": null,
   "metadata": {},
   "outputs": [],
   "source": []
  }
 ],
 "metadata": {
  "kernelspec": {
   "display_name": "Python 3",
   "language": "python",
   "name": "python3"
  },
  "language_info": {
   "codemirror_mode": {
    "name": "ipython",
    "version": 3
   },
   "file_extension": ".py",
   "mimetype": "text/x-python",
   "name": "python",
   "nbconvert_exporter": "python",
   "pygments_lexer": "ipython3",
   "version": "3.7.6"
  }
 },
 "nbformat": 4,
 "nbformat_minor": 4
}
