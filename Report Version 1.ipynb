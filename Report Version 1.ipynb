{
 "cells": [
  {
   "cell_type": "markdown",
   "metadata": {},
   "source": [
    "# Ergonomic Ville Centrale\n",
    "\n",
    "\n"
   ]
  },
  {
   "cell_type": "markdown",
   "metadata": {},
   "source": [
    "## Introduction (Part 1)\n",
    "\n",
    "Most major cities in the world are located on the coasts, making the inland sparsely populated. This wastes a lot of potentially useful land. In the case of larger countries like United States and Russia, this means having the most major cities sometimes tens of thousands of kilometers apart (see St Petersburg to Vladivostok). This leads to weak administration and policy distribution. Countries like Brazil and India have realized this problem and have shifted their capitals (to Brasilia and Delhi) inwards. I aim to use gelocation APIs to identify centrally located pieces of land closest to major cities in large countries to tackle this problem. For this assignment, I will use the United States of America as a startoff point due to the large swarm of publicly available data.\n",
    "\n",
    "\n"
   ]
  },
  {
   "cell_type": "markdown",
   "metadata": {},
   "source": [
    "## Data (Part 2)\n",
    "\n",
    "I will take the top 50 cities of the USA off Wikipedia or otherwise. I will use geopy package to pinpoint the latitudes and longitudes of these cities. From this data, I aim to find a centrally located city that could act as the capital instead of the eastboard Washinton DC. The exact way I intend to do this is as follows:\n",
    "\n",
    "City Name, City Latitude, City Longitude\n",
    "LA,a,b\n",
    "MIAMI,c,d\n",
    "NYC,e,f\n",
    ".\n",
    ".\n",
    ".\n",
    "\n",
    "Now, the latitude and longitude for the new city is (a+c+e)/3,(b+d+f)/3\n",
    "\n",
    "We now proceed to check whether this ville centrale is on mainland or not by using the FOLIUM package. If not, we add a bias factor of say +/- 1  to each coordinate and check again. This iterative process is repeated till a folium marker places its marker for ville centrale on habitable land.\n",
    "\n",
    "Et voila! The task at hand is completed!\n",
    "\n"
   ]
  }
 ],
 "metadata": {
  "kernelspec": {
   "display_name": "Python 3",
   "language": "python",
   "name": "python3"
  },
  "language_info": {
   "codemirror_mode": {
    "name": "ipython",
    "version": 3
   },
   "file_extension": ".py",
   "mimetype": "text/x-python",
   "name": "python",
   "nbconvert_exporter": "python",
   "pygments_lexer": "ipython3",
   "version": "3.7.6"
  }
 },
 "nbformat": 4,
 "nbformat_minor": 4
}
