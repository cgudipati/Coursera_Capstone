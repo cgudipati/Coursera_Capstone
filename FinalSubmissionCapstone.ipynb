{
 "cells": [
  {
   "cell_type": "markdown",
   "metadata": {},
   "source": [
    "# Ergonomic Ville Centrale\n",
    "\n",
    "\n",
    "Many countries tend to have a capital that is too far away from major regions. This gives a feeling of unwantedness and difference to the citizens of cities far from their capitals. This usually is a precursor to failed governments and civil wars. Washington DC lies on one side of America, leaving the entire West coast without a sense of inclusion.\n",
    "\n",
    "With my code, I aim to change this by picking a central region which is easily accessible by the twenty biggest cities of the USA. May the 4th be with you!\n",
    "\n",
    "....................................................................\n",
    "\n",
    "\n",
    "### Getting Data"
   ]
  },
  {
   "cell_type": "code",
   "execution_count": 1,
   "metadata": {},
   "outputs": [
    {
     "name": "stdout",
     "output_type": "stream",
     "text": [
      "    Rank              City    Latitude   Longitude\n",
      "0      1       New York[d]  ﻿40.6635°N   73.9387°W\n",
      "1      2       Los Angeles  ﻿34.0194°N  118.4108°W\n",
      "2      3           Chicago  ﻿41.8376°N   87.6818°W\n",
      "3      4        Houston[3]  ﻿29.7866°N   95.3909°W\n",
      "4      5           Phoenix  ﻿33.5722°N  112.0901°W\n",
      "5      6   Philadelphia[e]  ﻿40.0094°N   75.1333°W\n",
      "6      7       San Antonio  ﻿29.4724°N   98.5251°W\n",
      "7      8         San Diego  ﻿32.8153°N  117.1350°W\n",
      "8      9            Dallas  ﻿32.7933°N   96.7665°W\n",
      "9     10          San Jose  ﻿37.2967°N  121.8189°W\n",
      "10    11            Austin  ﻿30.3039°N   97.7544°W\n",
      "11    12   Jacksonville[f]  ﻿30.3369°N   81.6616°W\n",
      "12    13        Fort Worth  ﻿32.7815°N   97.3467°W\n",
      "13    14          Columbus  ﻿39.9852°N   82.9848°W\n",
      "14    15  San Francisco[g]  ﻿37.7272°N  123.0322°W\n",
      "15    16         Charlotte  ﻿35.2078°N   80.8310°W\n",
      "16    17   Indianapolis[h]  ﻿39.7767°N   86.1459°W\n",
      "17    18           Seattle  ﻿47.6205°N  122.3509°W\n",
      "18    19         Denver[i]  ﻿39.7619°N  104.8811°W\n",
      "19    20     Washington[j]  ﻿38.9041°N   77.0172°W\n"
     ]
    }
   ],
   "source": [
    "import pandas as pd\n",
    "import requests\n",
    "from bs4 import BeautifulSoup\n",
    "\n",
    "info = requests.get('https://en.wikipedia.org/wiki/List_of_United_States_cities_by_population').text\n",
    "bs = BeautifulSoup(info, 'html.parser')\n",
    "table=bs.find_all('table',class_='wikitable')[1]\n",
    "df=pd.read_html(str(table))[0]\n",
    "#Get the first 20 records\n",
    "df1=df.iloc[:20]\n",
    "\n",
    "Rank=df1['2018rank'].values.tolist()\n",
    "City=df1['City'].values.tolist()\n",
    "#Get the location in list\n",
    "locationlist=df1['Location'].values.tolist()\n",
    "Latitude=[]\n",
    "Longitude=[]\n",
    "for val in locationlist:\n",
    "    val1=val.split(\"/\")[-1]\n",
    "    Latitude.append(val1.split()[0])\n",
    "    Longitude.append(val1.split()[-1])\n",
    "\n",
    "df2=pd.DataFrame({\"Rank\":Rank,\"City\":City,\"Latitude\":Latitude,\"Longitude\":Longitude})\n",
    "print(df2)"
   ]
  },
  {
   "cell_type": "markdown",
   "metadata": {},
   "source": [
    "\n",
    "### We shall now deal with latitudes\n"
   ]
  },
  {
   "cell_type": "code",
   "execution_count": 4,
   "metadata": {},
   "outputs": [
    {
     "data": {
      "text/plain": [
       "0     ﻿40.6635°N\n",
       "1     ﻿34.0194°N\n",
       "2     ﻿41.8376°N\n",
       "3     ﻿29.7866°N\n",
       "4     ﻿33.5722°N\n",
       "5     ﻿40.0094°N\n",
       "6     ﻿29.4724°N\n",
       "7     ﻿32.8153°N\n",
       "8     ﻿32.7933°N\n",
       "9     ﻿37.2967°N\n",
       "10    ﻿30.3039°N\n",
       "11    ﻿30.3369°N\n",
       "12    ﻿32.7815°N\n",
       "13    ﻿39.9852°N\n",
       "14    ﻿37.7272°N\n",
       "15    ﻿35.2078°N\n",
       "16    ﻿39.7767°N\n",
       "17    ﻿47.6205°N\n",
       "18    ﻿39.7619°N\n",
       "19    ﻿38.9041°N\n",
       "Name: Latitude, dtype: object"
      ]
     },
     "execution_count": 4,
     "metadata": {},
     "output_type": "execute_result"
    }
   ],
   "source": [
    "latitude=df2.loc[:,\"Latitude\"]\n",
    "latitude"
   ]
  },
  {
   "cell_type": "code",
   "execution_count": 21,
   "metadata": {},
   "outputs": [
    {
     "data": {
      "text/plain": [
       "0     [﻿40.6635, N]\n",
       "1     [﻿34.0194, N]\n",
       "2     [﻿41.8376, N]\n",
       "3     [﻿29.7866, N]\n",
       "4     [﻿33.5722, N]\n",
       "5     [﻿40.0094, N]\n",
       "6     [﻿29.4724, N]\n",
       "7     [﻿32.8153, N]\n",
       "8     [﻿32.7933, N]\n",
       "9     [﻿37.2967, N]\n",
       "10    [﻿30.3039, N]\n",
       "11    [﻿30.3369, N]\n",
       "12    [﻿32.7815, N]\n",
       "13    [﻿39.9852, N]\n",
       "14    [﻿37.7272, N]\n",
       "15    [﻿35.2078, N]\n",
       "16    [﻿39.7767, N]\n",
       "17    [﻿47.6205, N]\n",
       "18    [﻿39.7619, N]\n",
       "19    [﻿38.9041, N]\n",
       "Name: Latitude, dtype: object"
      ]
     },
     "execution_count": 21,
     "metadata": {},
     "output_type": "execute_result"
    }
   ],
   "source": [
    "lat_new=[]\n",
    "lat_new=latitude.str.split('°')\n",
    "lat_new"
   ]
  },
  {
   "cell_type": "markdown",
   "metadata": {},
   "source": [
    "We now want to find the sum of latitudes. We do this by isolating the numerical values and finding the mean of the total."
   ]
  },
  {
   "cell_type": "code",
   "execution_count": 51,
   "metadata": {},
   "outputs": [
    {
     "data": {
      "text/plain": [
       "40.6635"
      ]
     },
     "execution_count": 51,
     "metadata": {},
     "output_type": "execute_result"
    }
   ],
   "source": [
    "r=0\n",
    "for i in range(0,20):\n",
    "    p=lat_new[0]\n",
    "    q=p[0]\n",
    "    r=r+float(q[1:]) #this is the sum\n",
    "la=r/20\n",
    "la"
   ]
  },
  {
   "cell_type": "markdown",
   "metadata": {},
   "source": [
    "### Repeating the same with longitudes\n",
    "\n",
    "\n",
    "Note that as these are West coordinates, we need to add a \"-\" (-ve) symbol to turn them into the conventional East coordinates."
   ]
  },
  {
   "cell_type": "code",
   "execution_count": 41,
   "metadata": {},
   "outputs": [
    {
     "data": {
      "text/plain": [
       "0      73.9387°W\n",
       "1     118.4108°W\n",
       "2      87.6818°W\n",
       "3      95.3909°W\n",
       "4     112.0901°W\n",
       "5      75.1333°W\n",
       "6      98.5251°W\n",
       "7     117.1350°W\n",
       "8      96.7665°W\n",
       "9     121.8189°W\n",
       "10     97.7544°W\n",
       "11     81.6616°W\n",
       "12     97.3467°W\n",
       "13     82.9848°W\n",
       "14    123.0322°W\n",
       "15     80.8310°W\n",
       "16     86.1459°W\n",
       "17    122.3509°W\n",
       "18    104.8811°W\n",
       "19     77.0172°W\n",
       "Name: Longitude, dtype: object"
      ]
     },
     "execution_count": 41,
     "metadata": {},
     "output_type": "execute_result"
    }
   ],
   "source": [
    "longitude=df2.loc[:,\"Longitude\"]\n",
    "longitude"
   ]
  },
  {
   "cell_type": "code",
   "execution_count": 42,
   "metadata": {},
   "outputs": [
    {
     "data": {
      "text/plain": [
       "0      [73.9387, W]\n",
       "1     [118.4108, W]\n",
       "2      [87.6818, W]\n",
       "3      [95.3909, W]\n",
       "4     [112.0901, W]\n",
       "5      [75.1333, W]\n",
       "6      [98.5251, W]\n",
       "7     [117.1350, W]\n",
       "8      [96.7665, W]\n",
       "9     [121.8189, W]\n",
       "10     [97.7544, W]\n",
       "11     [81.6616, W]\n",
       "12     [97.3467, W]\n",
       "13     [82.9848, W]\n",
       "14    [123.0322, W]\n",
       "15     [80.8310, W]\n",
       "16     [86.1459, W]\n",
       "17    [122.3509, W]\n",
       "18    [104.8811, W]\n",
       "19     [77.0172, W]\n",
       "Name: Longitude, dtype: object"
      ]
     },
     "execution_count": 42,
     "metadata": {},
     "output_type": "execute_result"
    }
   ],
   "source": [
    "long_new=[]\n",
    "long_new=longitude.str.split('°')\n",
    "long_new"
   ]
  },
  {
   "cell_type": "code",
   "execution_count": 79,
   "metadata": {},
   "outputs": [
    {
     "data": {
      "text/plain": [
       "-97.54484499999998"
      ]
     },
     "execution_count": 79,
     "metadata": {},
     "output_type": "execute_result"
    }
   ],
   "source": [
    "s=0.0\n",
    "for i in range(0,20):\n",
    "    n=long_new[i]\n",
    "    m=n[0]\n",
    "#float(m)\n",
    "    s=s+float(m) #this is the sum\n",
    "#s\n",
    "lo=-s/20\n",
    "lo"
   ]
  },
  {
   "cell_type": "markdown",
   "metadata": {},
   "source": [
    "We now have the latitude(la) and longitude(lo). We will now plot this value on a map using folium\n",
    "\n",
    "\n",
    "## Map Plotting using Folium\n",
    "..................................................."
   ]
  },
  {
   "cell_type": "code",
   "execution_count": 80,
   "metadata": {},
   "outputs": [],
   "source": [
    "import folium"
   ]
  },
  {
   "cell_type": "code",
   "execution_count": 81,
   "metadata": {},
   "outputs": [
    {
     "data": {
      "text/html": [
       "<div style=\"width:100%;\"><div style=\"position:relative;width:100%;height:0;padding-bottom:60%;\"><iframe src=\"about:blank\" style=\"position:absolute;width:100%;height:100%;left:0;top:0;border:none !important;\" data-html=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 onload=\"this.contentDocument.open();this.contentDocument.write(atob(this.getAttribute('data-html')));this.contentDocument.close();\" allowfullscreen webkitallowfullscreen mozallowfullscreen></iframe></div></div>"
      ],
      "text/plain": [
       "<folium.folium.Map at 0x2ca2f4badc8>"
      ]
     },
     "execution_count": 81,
     "metadata": {},
     "output_type": "execute_result"
    }
   ],
   "source": [
    "m = folium.Map(location=[la,lo])\n",
    "m"
   ]
  },
  {
   "cell_type": "markdown",
   "metadata": {},
   "source": [
    "## So it looks like Geneva, Filmore County, Nebraska will be the location of our new White House!"
    " If map does not appear, please view it on https://nbviewer.jupyter.org/github/cgudipati/Coursera_Capstone/blob/master/FinalSubmissionCapstone.ipynb"
   ]
  }
 ],
 "metadata": {
  "kernelspec": {
   "display_name": "Python 3",
   "language": "python",
   "name": "python3"
  },
  "language_info": {
   "codemirror_mode": {
    "name": "ipython",
    "version": 3
   },
   "file_extension": ".py",
   "mimetype": "text/x-python",
   "name": "python",
   "nbconvert_exporter": "python",
   "pygments_lexer": "ipython3",
   "version": "3.7.6"
  }
 },
 "nbformat": 4,
 "nbformat_minor": 4
}
